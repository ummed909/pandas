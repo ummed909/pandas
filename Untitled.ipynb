{
 "cells": [
  {
   "cell_type": "markdown",
   "id": "f7397e13-e85d-4be0-a824-e732f40dcc3e",
   "metadata": {},
   "source": [
    "## Pandas Basics "
   ]
  },
  {
   "cell_type": "code",
   "execution_count": null,
   "id": "15bb8f71-91df-4306-ac36-45bbfa075fa5",
   "metadata": {},
   "outputs": [],
   "source": []
  }
 ],
 "metadata": {
  "kernelspec": {
   "display_name": "Python 3 (ipykernel)",
   "language": "python",
   "name": "python3"
  },
  "language_info": {
   "codemirror_mode": {
    "name": "ipython",
    "version": 3
   },
   "file_extension": ".py",
   "mimetype": "text/x-python",
   "name": "python",
   "nbconvert_exporter": "python",
   "pygments_lexer": "ipython3",
   "version": "3.13.2"
  }
 },
 "nbformat": 4,
 "nbformat_minor": 5
}
