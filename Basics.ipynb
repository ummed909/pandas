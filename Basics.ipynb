{
 "cells": [
  {
   "cell_type": "markdown",
   "id": "f7397e13-e85d-4be0-a824-e732f40dcc3e",
   "metadata": {},
   "source": [
    "## Pandas Basics \n",
    "\n",
    "- Pandas is python library built on top of numpy, use to work with small or big data sets.\n",
    "- Pandas provide functionlity to analyze, clean, explore and manipulate the data.\n",
    "\n",
    "#### Why use pandas ?\n",
    "1. Easy to use\n",
    "2. Widely use in data science field (big user base)\n",
    "3. Powerfull functionality to clean and habdle big data.\n",
    "4. fast and efficient.\n"
   ]
  },
  {
   "cell_type": "markdown",
   "id": "29740f4f-f957-400f-ae8a-65329f42ea89",
   "metadata": {},
   "source": [
    "### 1. Series\n",
    "- Series is like a column in table.\n",
    "- it is one dimentional and holding data of any type."
   ]
  },
  {
   "cell_type": "code",
   "execution_count": 1,
   "id": "ec8f8e78-3362-4d03-bfba-27c24b114fcc",
   "metadata": {},
   "outputs": [],
   "source": [
    "import pandas as pd"
   ]
  },
  {
   "cell_type": "code",
   "execution_count": 2,
   "id": "9be37d96-77ed-41c4-81d6-30ab3b2b8173",
   "metadata": {},
   "outputs": [
    {
     "data": {
      "text/plain": [
       "a    1\n",
       "b    2\n",
       "c    3\n",
       "dtype: int64"
      ]
     },
     "execution_count": 2,
     "metadata": {},
     "output_type": "execute_result"
    }
   ],
   "source": [
    "ser = pd.Series([1,2,3], index=['a', 'b', 'c'])\n",
    "ser"
   ]
  },
  {
   "cell_type": "code",
   "execution_count": 3,
   "id": "6bd86f6e-28b1-4431-9cd0-d4b173597580",
   "metadata": {},
   "outputs": [
    {
     "data": {
      "text/plain": [
       "pandas.core.series.Series"
      ]
     },
     "execution_count": 3,
     "metadata": {},
     "output_type": "execute_result"
    }
   ],
   "source": [
    "type(ser)"
   ]
  },
  {
   "cell_type": "code",
   "execution_count": 4,
   "id": "7917b0eb-896c-490d-b493-d3aa7aee4449",
   "metadata": {},
   "outputs": [
    {
     "data": {
      "text/plain": [
       "0    1\n",
       "1    2\n",
       "2    3\n",
       "3    4\n",
       "dtype: int64"
      ]
     },
     "execution_count": 4,
     "metadata": {},
     "output_type": "execute_result"
    }
   ],
   "source": [
    "ser2 = pd.Series([1,2,3,4])\n",
    "ser2"
   ]
  },
  {
   "cell_type": "code",
   "execution_count": 6,
   "id": "4fab071c-f5cd-4017-b27a-24614110989e",
   "metadata": {},
   "outputs": [],
   "source": [
    "ser3 = pd.Series([1,2,3,4], index=['a', 'b']). # error"
   ]
  },
  {
   "cell_type": "code",
   "execution_count": 34,
   "id": "6f2df6a5-315a-4053-b850-6e7920794fa6",
   "metadata": {},
   "outputs": [
    {
     "name": "stdout",
     "output_type": "stream",
     "text": [
      "1\n"
     ]
    }
   ],
   "source": [
    "# access element of series\n",
    "print(ser.loc['a'])"
   ]
  },
  {
   "cell_type": "code",
   "execution_count": 35,
   "id": "87dab30b-405f-4d4f-9f39-738ef25a18ab",
   "metadata": {},
   "outputs": [
    {
     "data": {
      "text/plain": [
       "np.int64(1)"
      ]
     },
     "execution_count": 35,
     "metadata": {},
     "output_type": "execute_result"
    }
   ],
   "source": [
    "ser.iloc[0]"
   ]
  },
  {
   "cell_type": "markdown",
   "id": "be377832-0cb7-45e8-8f5e-2ca2226ebb58",
   "metadata": {},
   "source": [
    "### 2. DataFrame\n",
    "- DF is two dimentional data structure, which contain mautiple series. we usually treat dataframe as table and series as column."
   ]
  },
  {
   "cell_type": "code",
   "execution_count": 7,
   "id": "a4d2bcea-9ed3-4a25-a1b6-3917d0bcacd8",
   "metadata": {},
   "outputs": [
    {
     "data": {
      "text/html": [
       "<div>\n",
       "<style scoped>\n",
       "    .dataframe tbody tr th:only-of-type {\n",
       "        vertical-align: middle;\n",
       "    }\n",
       "\n",
       "    .dataframe tbody tr th {\n",
       "        vertical-align: top;\n",
       "    }\n",
       "\n",
       "    .dataframe thead th {\n",
       "        text-align: right;\n",
       "    }\n",
       "</style>\n",
       "<table border=\"1\" class=\"dataframe\">\n",
       "  <thead>\n",
       "    <tr style=\"text-align: right;\">\n",
       "      <th></th>\n",
       "      <th>name</th>\n",
       "      <th>age</th>\n",
       "    </tr>\n",
       "  </thead>\n",
       "  <tbody>\n",
       "    <tr>\n",
       "      <th>0</th>\n",
       "      <td>ummed</td>\n",
       "      <td>23</td>\n",
       "    </tr>\n",
       "    <tr>\n",
       "      <th>1</th>\n",
       "      <td>sachine</td>\n",
       "      <td>22</td>\n",
       "    </tr>\n",
       "    <tr>\n",
       "      <th>2</th>\n",
       "      <td>rohit</td>\n",
       "      <td>18</td>\n",
       "    </tr>\n",
       "  </tbody>\n",
       "</table>\n",
       "</div>"
      ],
      "text/plain": [
       "      name  age\n",
       "0    ummed   23\n",
       "1  sachine   22\n",
       "2    rohit   18"
      ]
     },
     "execution_count": 7,
     "metadata": {},
     "output_type": "execute_result"
    }
   ],
   "source": [
    "Df = pd.DataFrame({\n",
    "    'name' : ['ummed', 'sachine', 'rohit'],\n",
    "    'age': [23,22,18]\n",
    "})\n",
    "\n",
    "Df"
   ]
  },
  {
   "cell_type": "code",
   "execution_count": 8,
   "id": "53a21a3c-53a2-4300-9786-f76d482cca63",
   "metadata": {},
   "outputs": [
    {
     "data": {
      "text/plain": [
       "pandas.core.frame.DataFrame"
      ]
     },
     "execution_count": 8,
     "metadata": {},
     "output_type": "execute_result"
    }
   ],
   "source": [
    "type(Df)"
   ]
  },
  {
   "cell_type": "code",
   "execution_count": 10,
   "id": "19ef026a-84c4-45e7-9034-f631433c615d",
   "metadata": {},
   "outputs": [
    {
     "data": {
      "text/plain": [
       "name    sachine\n",
       "age          22\n",
       "Name: 1, dtype: object"
      ]
     },
     "execution_count": 10,
     "metadata": {},
     "output_type": "execute_result"
    }
   ],
   "source": [
    "Df.loc[1]"
   ]
  },
  {
   "cell_type": "markdown",
   "id": "544488d8-058a-4367-baa7-522ee3d0130e",
   "metadata": {},
   "source": [
    "#### Access items of data frame (loc and iloc)"
   ]
  },
  {
   "cell_type": "code",
   "execution_count": 12,
   "id": "d5db19ec-dccc-4c35-b991-18c22fa471cf",
   "metadata": {},
   "outputs": [],
   "source": [
    "Cars = pd.DataFrame({\n",
    "    'name' : ['A', 'B', 'C'],\n",
    "    'value' : [10,20,30],\n",
    "}, index=['c1', 'c2', 'c3'])"
   ]
  },
  {
   "cell_type": "code",
   "execution_count": 13,
   "id": "4b1b2119-cb0e-4c80-8f67-bf1d0f1de0be",
   "metadata": {},
   "outputs": [
    {
     "data": {
      "text/html": [
       "<div>\n",
       "<style scoped>\n",
       "    .dataframe tbody tr th:only-of-type {\n",
       "        vertical-align: middle;\n",
       "    }\n",
       "\n",
       "    .dataframe tbody tr th {\n",
       "        vertical-align: top;\n",
       "    }\n",
       "\n",
       "    .dataframe thead th {\n",
       "        text-align: right;\n",
       "    }\n",
       "</style>\n",
       "<table border=\"1\" class=\"dataframe\">\n",
       "  <thead>\n",
       "    <tr style=\"text-align: right;\">\n",
       "      <th></th>\n",
       "      <th>name</th>\n",
       "      <th>value</th>\n",
       "    </tr>\n",
       "  </thead>\n",
       "  <tbody>\n",
       "    <tr>\n",
       "      <th>c1</th>\n",
       "      <td>A</td>\n",
       "      <td>10</td>\n",
       "    </tr>\n",
       "    <tr>\n",
       "      <th>c2</th>\n",
       "      <td>B</td>\n",
       "      <td>20</td>\n",
       "    </tr>\n",
       "    <tr>\n",
       "      <th>c3</th>\n",
       "      <td>C</td>\n",
       "      <td>30</td>\n",
       "    </tr>\n",
       "  </tbody>\n",
       "</table>\n",
       "</div>"
      ],
      "text/plain": [
       "   name  value\n",
       "c1    A     10\n",
       "c2    B     20\n",
       "c3    C     30"
      ]
     },
     "execution_count": 13,
     "metadata": {},
     "output_type": "execute_result"
    }
   ],
   "source": [
    "Cars"
   ]
  },
  {
   "cell_type": "code",
   "execution_count": 16,
   "id": "26561730-06f9-4dc7-96d6-6c25c0fb1e3f",
   "metadata": {},
   "outputs": [
    {
     "data": {
      "text/plain": [
       "name      A\n",
       "value    10\n",
       "Name: c1, dtype: object"
      ]
     },
     "execution_count": 16,
     "metadata": {},
     "output_type": "execute_result"
    }
   ],
   "source": [
    "Cars.iloc[0] # iloc use index position"
   ]
  },
  {
   "cell_type": "code",
   "execution_count": null,
   "id": "9e55bba8-dee7-491e-bc9b-e5aeae41816c",
   "metadata": {},
   "outputs": [],
   "source": [
    "Cars.loc[0] # error"
   ]
  },
  {
   "cell_type": "code",
   "execution_count": 17,
   "id": "5495500b-d870-46d1-973d-50b33911f89a",
   "metadata": {},
   "outputs": [
    {
     "data": {
      "text/plain": [
       "name      A\n",
       "value    10\n",
       "Name: c1, dtype: object"
      ]
     },
     "execution_count": 17,
     "metadata": {},
     "output_type": "execute_result"
    }
   ],
   "source": [
    "Cars.loc['c1'] # loc use actual index value"
   ]
  },
  {
   "cell_type": "code",
   "execution_count": null,
   "id": "58836226-8225-45d8-a858-6477cd553406",
   "metadata": {},
   "outputs": [],
   "source": []
  },
  {
   "cell_type": "code",
   "execution_count": 24,
   "id": "c7555453-d7dd-4cd4-967f-08158f6ad8ae",
   "metadata": {},
   "outputs": [
    {
     "data": {
      "text/html": [
       "<div>\n",
       "<style scoped>\n",
       "    .dataframe tbody tr th:only-of-type {\n",
       "        vertical-align: middle;\n",
       "    }\n",
       "\n",
       "    .dataframe tbody tr th {\n",
       "        vertical-align: top;\n",
       "    }\n",
       "\n",
       "    .dataframe thead th {\n",
       "        text-align: right;\n",
       "    }\n",
       "</style>\n",
       "<table border=\"1\" class=\"dataframe\">\n",
       "  <thead>\n",
       "    <tr style=\"text-align: right;\">\n",
       "      <th></th>\n",
       "      <th>name</th>\n",
       "      <th>value</th>\n",
       "    </tr>\n",
       "  </thead>\n",
       "  <tbody>\n",
       "    <tr>\n",
       "      <th>c1</th>\n",
       "      <td>A</td>\n",
       "      <td>10</td>\n",
       "    </tr>\n",
       "    <tr>\n",
       "      <th>c2</th>\n",
       "      <td>B</td>\n",
       "      <td>20</td>\n",
       "    </tr>\n",
       "  </tbody>\n",
       "</table>\n",
       "</div>"
      ],
      "text/plain": [
       "   name  value\n",
       "c1    A     10\n",
       "c2    B     20"
      ]
     },
     "execution_count": 24,
     "metadata": {},
     "output_type": "execute_result"
    }
   ],
   "source": [
    "Cars.loc[['c1', 'c2']]"
   ]
  },
  {
   "cell_type": "code",
   "execution_count": null,
   "id": "e037702c-f5fa-4ad4-8baf-5de465e3f5b8",
   "metadata": {},
   "outputs": [],
   "source": []
  },
  {
   "cell_type": "code",
   "execution_count": 29,
   "id": "cf7a828f-d5e1-4037-9e44-883670abdd1d",
   "metadata": {},
   "outputs": [
    {
     "data": {
      "text/plain": [
       "np.int64(10)"
      ]
     },
     "execution_count": 29,
     "metadata": {},
     "output_type": "execute_result"
    }
   ],
   "source": [
    "Cars.iloc[0].iloc[1]"
   ]
  },
  {
   "cell_type": "code",
   "execution_count": null,
   "id": "8944cc40-53c1-4c39-98c1-d2da642b2a33",
   "metadata": {},
   "outputs": [],
   "source": []
  }
 ],
 "metadata": {
  "kernelspec": {
   "display_name": "Python 3 (ipykernel)",
   "language": "python",
   "name": "python3"
  },
  "language_info": {
   "codemirror_mode": {
    "name": "ipython",
    "version": 3
   },
   "file_extension": ".py",
   "mimetype": "text/x-python",
   "name": "python",
   "nbconvert_exporter": "python",
   "pygments_lexer": "ipython3",
   "version": "3.13.2"
  }
 },
 "nbformat": 4,
 "nbformat_minor": 5
}
